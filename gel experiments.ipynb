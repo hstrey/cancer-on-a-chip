{
 "cells": [
  {
   "cell_type": "code",
   "execution_count": 17,
   "metadata": {
    "collapsed": true
   },
   "outputs": [],
   "source": [
    "import numpy as np"
   ]
  },
  {
   "cell_type": "code",
   "execution_count": 18,
   "metadata": {
    "collapsed": true
   },
   "outputs": [],
   "source": [
    "perc_gel = np.array([20,15,10])"
   ]
  },
  {
   "cell_type": "code",
   "execution_count": 19,
   "metadata": {
    "collapsed": false
   },
   "outputs": [
    {
     "name": "stdout",
     "output_type": "stream",
     "text": [
      "20.0\n"
     ]
    }
   ],
   "source": [
    "# volume of gelation solution per experiment in microliters\n",
    "conc_igacure = 2500 # microgramms per mil\n",
    "vol = 100 # microliters\n",
    "per_igacure = 0.05\n",
    "vol_igacure = vol*per_igacure/100*1000/2.5 # in microliters\n",
    "print(vol_igacure)"
   ]
  },
  {
   "cell_type": "code",
   "execution_count": 20,
   "metadata": {
    "collapsed": false
   },
   "outputs": [
    {
     "name": "stdout",
     "output_type": "stream",
     "text": [
      "[ 66.66666667  50.          33.33333333] [ 13.33333333  30.          46.66666667]\n"
     ]
    }
   ],
   "source": [
    "# gel solutions - we are starting with 30% gelatin\n",
    "vol_gelatin = vol*perc_gel/30\n",
    "vol_cells = vol-vol_gelatin-vol_igacure\n",
    "print(vol_gelatin, vol_cells)"
   ]
  },
  {
   "cell_type": "code",
   "execution_count": 21,
   "metadata": {
    "collapsed": false
   },
   "outputs": [
    {
     "name": "stdout",
     "output_type": "stream",
     "text": [
      "1000000.0\n",
      "133.333333333\n"
     ]
    }
   ],
   "source": [
    "# cells: we want 10 million cells per ml\n",
    "cells_per_ml = 10e6\n",
    "cells_per_sample = vol /1000 *cells_per_ml\n",
    "print(cells_per_sample)\n",
    "cell_stock_volume = vol_cells[0]*cells_per_ml/cells_per_sample\n",
    "print(cell_stock_volume)"
   ]
  },
  {
   "cell_type": "code",
   "execution_count": 22,
   "metadata": {
    "collapsed": true
   },
   "outputs": [],
   "source": [
    "# now we calculate the extra growth media that have to be added\n",
    "vol_extra_media = vol - vol_gelatin - vol_igacure - vol_cells[0]"
   ]
  },
  {
   "cell_type": "code",
   "execution_count": 25,
   "metadata": {
    "collapsed": false
   },
   "outputs": [
    {
     "name": "stdout",
     "output_type": "stream",
     "text": [
      "[ 66.66666667  50.          33.33333333]\n",
      "[ 20.  20.  20.]\n",
      "[ 13.33333333  13.33333333  13.33333333]\n",
      "[  0.          16.66666667  33.33333333]\n"
     ]
    }
   ],
   "source": [
    "print(vol_gelatin)\n",
    "print(vol_igacure*np.ones(3))\n",
    "print(vol_cells[0]*np.ones(3))\n",
    "print(vol_extra_media)"
   ]
  },
  {
   "cell_type": "code",
   "execution_count": null,
   "metadata": {
    "collapsed": true
   },
   "outputs": [],
   "source": []
  }
 ],
 "metadata": {
  "anaconda-cloud": {},
  "kernelspec": {
   "display_name": "Python [conda env:python3]",
   "language": "python",
   "name": "conda-env-python3-py"
  },
  "language_info": {
   "codemirror_mode": {
    "name": "ipython",
    "version": 3
   },
   "file_extension": ".py",
   "mimetype": "text/x-python",
   "name": "python",
   "nbconvert_exporter": "python",
   "pygments_lexer": "ipython3",
   "version": "3.5.2"
  }
 },
 "nbformat": 4,
 "nbformat_minor": 1
}
